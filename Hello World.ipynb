{
 "cells": [
  {
   "cell_type": "code",
   "execution_count": null,
   "id": "0d80b730",
   "metadata": {},
   "outputs": [],
   "source": [
    "# Online Python - IDE, Editor, Compiler, Interpreter\n",
    "\n",
    "def sum(a, b):\n",
    "    return (a + b)\n",
    "\n",
    "a = int(input('Enter 1st number: '))\n",
    "b = int(input('Enter 2nd number: '))\n",
    "c = input('Enter your name as it appears in Canvas: ')\n",
    "\n",
    "print(f'Sum of {a} and {b} is {sum(a, b)}')\n",
    "\n",
    "# use an f string to print the text assigned to the variable c \n",
    "# this will look something like print(f'Hello Python World! My name is {c}')\n",
    "print(f'Hello Python World! My name is {c}')"
   ]
  }
 ],
 "metadata": {
  "kernelspec": {
   "display_name": "Python 3 (ipykernel)",
   "language": "python",
   "name": "python3"
  },
  "language_info": {
   "codemirror_mode": {
    "name": "ipython",
    "version": 3
   },
   "file_extension": ".py",
   "mimetype": "text/x-python",
   "name": "python",
   "nbconvert_exporter": "python",
   "pygments_lexer": "ipython3",
   "version": "3.9.7"
  }
 },
 "nbformat": 4,
 "nbformat_minor": 5
}
